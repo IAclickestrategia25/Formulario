{
 "cells": [
  {
   "cell_type": "markdown",
   "metadata": {},
   "source": []
  },
  {
   "cell_type": "code",
   "execution_count": null,
   "metadata": {},
   "outputs": [
    {
     "name": "stdout",
     "output_type": "stream",
     "text": [
      "Correos enviados y datos actualizados con éxito.\n"
     ]
    }
   ],
   "source": [
    "import smtplib\n",
    "from email.mime.multipart import MIMEMultipart\n",
    "from email.mime.text import MIMEText\n",
    "import pymysql\n",
    "from datetime import datetime\n",
    "\n",
    "# Conectar a MySQL usando PyMySQL\n",
    "db = pymysql.connect(\n",
    "    host=\"localhost\",\n",
    "    user=\"root\",\n",
    "    password=\"\",\n",
    "    database=\"pruebaFormulario\"\n",
    ")\n",
    "cursor = db.cursor()\n",
    "\n",
    "# Consultar solo las empresas que tienen correo electrónico\n",
    "query = \"\"\"\n",
    "    SELECT sequence_id, correo_electronico_de_contacto_del_negocio \n",
    "    FROM pruebaInterna \n",
    "    WHERE correo_electronico_de_contacto_del_negocio IS NOT NULL\n",
    "\"\"\"\n",
    "cursor.execute(query)\n",
    "\n",
    "# Obtener resultados en una lista de tuplas (sequence_id, email)\n",
    "clientes = cursor.fetchall()\n",
    "\n",
    "# Cerrar conexión temporalmente para que no se haga innecesaria\n",
    "cursor.close()\n",
    "\n",
    "# Datos de la cuenta de correo desde la que se enviarán los correos\n",
    "remitente = \"info@directorioempresasdecantabria.es\"\n",
    "password = \"Fw!p3@k2SNsm\"\n",
    "\n",
    "# Establecer conexión con el servidor SMTP\n",
    "server = smtplib.SMTP(\"smtp.directorioempresasdecantabria.com\", 587)\n",
    "server.starttls()\n",
    "server.login(remitente, password)\n",
    "\n",
    "# Enviar un correo a cada cliente y actualizar la base de datos\n",
    "for sequence_id, email in clientes:\n",
    "    # Crear el mensaje\n",
    "    mensaje = MIMEMultipart()\n",
    "    mensaje[\"From\"] = remitente\n",
    "    mensaje[\"To\"] = email\n",
    "    mensaje[\"Subject\"] = \"Actualización de Datos de tu Empresa\"\n",
    "\n",
    "    # Cuerpo del mensaje\n",
    "    cuerpo = f\"\"\"\n",
    "    Estimado cliente,\n",
    "\n",
    "    Por favor, haz clic en el siguiente enlace para actualizar los datos de tu empresa en nuestra base de datos:\n",
    "\n",
    "    http://localhost/clickestrategia/formulario.php?sequence_id={sequence_id}\n",
    "\n",
    "    Gracias por tu colaboración.\n",
    "\n",
    "    Atentamente,\n",
    "    Empresas de Cantabria\n",
    "    \"\"\"\n",
    "    mensaje.attach(MIMEText(cuerpo, \"plain\"))\n",
    "\n",
    "    # Enviar el correo\n",
    "    server.sendmail(remitente, email, mensaje.as_string())\n",
    "\n",
    "    # Conectar nuevamente a la base de datos para actualizar los campos\n",
    "    db = pymysql.connect(\n",
    "        host=\"localhost\",\n",
    "        user=\"root\",\n",
    "        password=\"\",\n",
    "        database=\"pruebaFormulario\"\n",
    "    )\n",
    "    cursor = db.cursor()\n",
    "\n",
    "    # Actualizar el campo 'enviado' y 'fecha_envio'\n",
    "    fecha_envio = datetime.now().strftime('%Y-%m-%d %H:%M:%S')  # Fecha y hora actual\n",
    "    update_query = \"\"\"\n",
    "        UPDATE pruebaInterna\n",
    "        SET enviado = 1, fecha_envio = %s\n",
    "        WHERE sequence_id = %s\n",
    "    \"\"\"\n",
    "    cursor.execute(update_query, (fecha_envio, sequence_id))\n",
    "\n",
    "    # Confirmar los cambios\n",
    "    db.commit()\n",
    "\n",
    "    # Cerrar la conexión\n",
    "    cursor.close()\n",
    "    db.close()\n",
    "\n",
    "# Cerrar la conexión con el servidor SMTP\n",
    "server.quit()\n",
    "\n",
    "print(\"Correos enviados y datos actualizados con éxito.\")\n"
   ]
  },
  {
   "cell_type": "markdown",
   "metadata": {},
   "source": []
  },
  {
   "cell_type": "code",
   "execution_count": null,
   "metadata": {},
   "outputs": [
    {
     "name": "stdout",
     "output_type": "stream",
     "text": [
      "Error de autenticación: (535, b'5.7.8 Username and Password not accepted. For more information, go to\\n5.7.8  https://support.google.com/mail/?p=BadCredentials 5b1f17b1804b1-43b736f74e8sm33406575e9.7 - gsmtp')\n"
     ]
    },
    {
     "ename": "SMTPSenderRefused",
     "evalue": "(530, b'5.7.0 Authentication Required. For more information, go to\\n5.7.0  https://support.google.com/mail/?p=WantAuthError 5b1f17b1804b1-43b736f74e8sm33406575e9.7 - gsmtp', 'ia@clicktrategia.com')",
     "output_type": "error",
     "traceback": [
      "\u001b[0;31m---------------------------------------------------------------------------\u001b[0m",
      "\u001b[0;31mSMTPSenderRefused\u001b[0m                         Traceback (most recent call last)",
      "Cell \u001b[0;32mIn[1], line 27\u001b[0m\n\u001b[1;32m     24\u001b[0m cuerpo \u001b[38;5;241m=\u001b[39m \u001b[38;5;124m\"\u001b[39m\u001b[38;5;124mHola somos empresas de cantabria y tiene que actualizar los datos \u001b[39m\u001b[38;5;124m\"\u001b[39m\n\u001b[1;32m     25\u001b[0m mensaje\u001b[38;5;241m.\u001b[39mattach(MIMEText(cuerpo, \u001b[38;5;124m\"\u001b[39m\u001b[38;5;124mplain\u001b[39m\u001b[38;5;124m\"\u001b[39m))\n\u001b[0;32m---> 27\u001b[0m \u001b[43mserver\u001b[49m\u001b[38;5;241;43m.\u001b[39;49m\u001b[43msendmail\u001b[49m\u001b[43m(\u001b[49m\u001b[43mremitente\u001b[49m\u001b[43m,\u001b[49m\u001b[43m \u001b[49m\u001b[38;5;124;43m\"\u001b[39;49m\u001b[38;5;124;43mia@clikestrategia.com\u001b[39;49m\u001b[38;5;124;43m\"\u001b[39;49m\u001b[43m,\u001b[49m\u001b[43m \u001b[49m\u001b[43mmensaje\u001b[49m\u001b[38;5;241;43m.\u001b[39;49m\u001b[43mas_string\u001b[49m\u001b[43m(\u001b[49m\u001b[43m)\u001b[49m\u001b[43m)\u001b[49m\n\u001b[1;32m     28\u001b[0m server\u001b[38;5;241m.\u001b[39mquit()  \u001b[38;5;66;03m# Cerrar la conexión SMTP\u001b[39;00m\n",
      "File \u001b[0;32m/opt/anaconda3/envs/todo/lib/python3.11/smtplib.py:887\u001b[0m, in \u001b[0;36mSMTP.sendmail\u001b[0;34m(self, from_addr, to_addrs, msg, mail_options, rcpt_options)\u001b[0m\n\u001b[1;32m    885\u001b[0m     \u001b[38;5;28;01melse\u001b[39;00m:\n\u001b[1;32m    886\u001b[0m         \u001b[38;5;28mself\u001b[39m\u001b[38;5;241m.\u001b[39m_rset()\n\u001b[0;32m--> 887\u001b[0m     \u001b[38;5;28;01mraise\u001b[39;00m SMTPSenderRefused(code, resp, from_addr)\n\u001b[1;32m    888\u001b[0m senderrs \u001b[38;5;241m=\u001b[39m {}\n\u001b[1;32m    889\u001b[0m \u001b[38;5;28;01mif\u001b[39;00m \u001b[38;5;28misinstance\u001b[39m(to_addrs, \u001b[38;5;28mstr\u001b[39m):\n",
      "\u001b[0;31mSMTPSenderRefused\u001b[0m: (530, b'5.7.0 Authentication Required. For more information, go to\\n5.7.0  https://support.google.com/mail/?p=WantAuthError 5b1f17b1804b1-43b736f74e8sm33406575e9.7 - gsmtp', 'ia@clicktrategia.com')"
     ]
    },
    {
     "ename": "",
     "evalue": "",
     "output_type": "error",
     "traceback": [
      "\u001b[1;31mEl kernel se bloqueó al ejecutar código en la celda actual o en una celda anterior. \n",
      "\u001b[1;31mRevise el código de las celdas para identificar una posible causa del error. \n",
      "\u001b[1;31mHaga clic <a href='https://aka.ms/vscodeJupyterKernelCrash'>aquí</a> para obtener más información. \n",
      "\u001b[1;31mVea Jupyter <a href='command:jupyter.viewOutput'>log</a> para obtener más detalles."
     ]
    }
   ],
   "source": [
    "import smtplib\n",
    "from email.mime.multipart import MIMEMultipart\n",
    "from email.mime.text import MIMEText\n",
    "\n",
    "remitente = \"ia@clicktrategia.com\"\n",
    "password = \"SEqorXCiA9w%\"  # Si tienes 2FA, usa la contraseña de aplicación\n",
    "\n",
    "server = smtplib.SMTP(\"smtp.gmail.com\", 587)\n",
    "server.starttls()  # Establecer la conexión segura\n",
    "\n",
    "# Intentar iniciar sesión\n",
    "try:\n",
    "    server.login(remitente, password)\n",
    "    print(\"Login exitoso\")\n",
    "except smtplib.SMTPAuthenticationError as e:\n",
    "    print(f\"Error de autenticación: {e}\")\n",
    "    exit()  # Detener el script si no se puede iniciar sesión\n",
    "\n",
    "# Crear y enviar el correo\n",
    "mensaje = MIMEMultipart()\n",
    "mensaje[\"From\"] = remitente\n",
    "mensaje[\"To\"] = \"ia@clikestrategia.com\"\n",
    "mensaje[\"Subject\"] = \"Actualización datos\"\n",
    "cuerpo = \"Hola somos empresas de cantabria y tiene que actualizar los datos \"\n",
    "mensaje.attach(MIMEText(cuerpo, \"plain\"))\n",
    "\n",
    "server.sendmail(remitente, \"ia@clikestrategia.com\", mensaje.as_string())\n",
    "server.quit()  # Cerrar la conexión SMTP\n"
   ]
  },
  {
   "cell_type": "markdown",
   "metadata": {},
   "source": []
  },
  {
   "cell_type": "code",
   "execution_count": 1,
   "metadata": {},
   "outputs": [
    {
     "name": "stdout",
     "output_type": "stream",
     "text": [
      "Login exitoso\n"
     ]
    },
    {
     "data": {
      "text/plain": [
       "(221, b'2.0.0 Bye')"
      ]
     },
     "execution_count": 1,
     "metadata": {},
     "output_type": "execute_result"
    }
   ],
   "source": [
    "import smtplib\n",
    "from email.mime.multipart import MIMEMultipart\n",
    "from email.mime.text import MIMEText\n",
    "\n",
    "# Configuración de tu correo y contraseña\n",
    "remitente = \"ia@clickestrategia.com\"\n",
    "password = \"SEqorXCiA9w%\"  # Reemplaza con tu contraseña real\n",
    "\n",
    "# Servidor SMTP de tu proveedor (esto dependerá de tu proveedor de correo)\n",
    "server = smtplib.SMTP(\"smtp.clickestrategia.com\", 587)  # Ajusta según tu proveedor\n",
    "server.starttls()  # Establecer la conexión segura\n",
    "\n",
    "# Intentar iniciar sesión\n",
    "try:\n",
    "    server.login(remitente, password)\n",
    "    print(\"Login exitoso\")\n",
    "except smtplib.SMTPAuthenticationError as e:\n",
    "    print(f\"Error de autenticación: {e}\")\n",
    "    exit()  # Detener el script si no se puede iniciar sesión\n",
    "\n",
    "# Crear y enviar el correo\n",
    "mensaje = MIMEMultipart()\n",
    "mensaje[\"From\"] = remitente\n",
    "mensaje[\"To\"] = \"cliente@ejemplo.com\"\n",
    "mensaje[\"Subject\"] = \"Actualización de Datos\"\n",
    "cuerpo = \"Por favor, actualiza tus datos en el siguiente enlace.\"\n",
    "mensaje.attach(MIMEText(cuerpo, \"plain\"))\n",
    "\n",
    "server.sendmail(remitente, \"cliente@ejemplo.com\", mensaje.as_string())\n",
    "server.quit()  # Cerrar la conexión SMTP\n"
   ]
  }
 ],
 "metadata": {
  "kernelspec": {
   "display_name": "todo",
   "language": "python",
   "name": "python3"
  },
  "language_info": {
   "codemirror_mode": {
    "name": "ipython",
    "version": 3
   },
   "file_extension": ".py",
   "mimetype": "text/x-python",
   "name": "python",
   "nbconvert_exporter": "python",
   "pygments_lexer": "ipython3",
   "version": "3.11.8"
  }
 },
 "nbformat": 4,
 "nbformat_minor": 2
}
